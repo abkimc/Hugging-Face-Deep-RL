{
  "cells": [
    {
      "cell_type": "markdown",
      "metadata": {
        "id": "view-in-github",
        "colab_type": "text"
      },
      "source": [
        "<a href=\"https://colab.research.google.com/github/abkimc/Hugging-Face-Deep-RL/blob/main/bonus_unit1.ipynb\" target=\"_parent\"><img src=\"https://colab.research.google.com/assets/colab-badge.svg\" alt=\"Open In Colab\"/></a>"
      ]
    },
    {
      "cell_type": "markdown",
      "metadata": {
        "id": "2D3NL_e4crQv"
      },
      "source": [
        "# Bonus Unit 1: Let's train Huggy the Dog 🐶 to fetch a stick"
      ]
    },
    {
      "cell_type": "markdown",
      "metadata": {
        "id": "FMYrDriDujzX"
      },
      "source": [
        "<img src=\"https://huggingface.co/datasets/huggingface-deep-rl-course/course-images/resolve/main/en/unit2/thumbnail.png\" alt=\"Bonus Unit 1Thumbnail\">\n",
        "\n",
        "In this notebook, we'll reinforce what we learned in the first Unit by **teaching Huggy the Dog to fetch the stick and then play with it directly in your browser**\n",
        "\n",
        "⬇️ Here is an example of what **you will achieve at the end of the unit.** ⬇️ (launch ▶ to see)"
      ]
    },
    {
      "cell_type": "code",
      "execution_count": 1,
      "metadata": {
        "id": "PnVhs1yYNyUF",
        "colab": {
          "base_uri": "https://localhost:8080/",
          "height": 742
        },
        "outputId": "7abc2879-604e-45e5-cd39-952b5c1412a3"
      },
      "outputs": [
        {
          "output_type": "display_data",
          "data": {
            "text/plain": [
              "<IPython.core.display.HTML object>"
            ],
            "text/html": [
              "<video controls autoplay><source src=\"https://huggingface.co/datasets/huggingface-deep-rl-course/course-images/resolve/main/en/notebooks/unit-bonus1/huggy.mp4\" type=\"video/mp4\"></video>\n"
            ]
          },
          "metadata": {}
        }
      ],
      "source": [
        "%%html\n",
        "<video controls autoplay><source src=\"https://huggingface.co/datasets/huggingface-deep-rl-course/course-images/resolve/main/en/notebooks/unit-bonus1/huggy.mp4\" type=\"video/mp4\"></video>"
      ]
    },
    {
      "cell_type": "markdown",
      "metadata": {
        "id": "x7oR6R-ZIbeS"
      },
      "source": [
        "### The environment 🎮\n",
        "\n",
        "- Huggy the Dog, an environment created by [Thomas Simonini](https://twitter.com/ThomasSimonini) based on [Puppo The Corgi](https://blog.unity.com/technology/puppo-the-corgi-cuteness-overload-with-the-unity-ml-agents-toolkit)\n",
        "\n",
        "### The library used 📚\n",
        "\n",
        "- [MLAgents](https://github.com/Unity-Technologies/ml-agents)"
      ]
    },
    {
      "cell_type": "markdown",
      "metadata": {
        "id": "60yACvZwO0Cy"
      },
      "source": [
        "We're constantly trying to improve our tutorials, so **if you find some issues in this notebook**, please [open an issue on the Github Repo](https://github.com/huggingface/deep-rl-class/issues)."
      ]
    },
    {
      "cell_type": "markdown",
      "metadata": {
        "id": "Oks-ETYdO2Dc"
      },
      "source": [
        "## Objectives of this notebook 🏆\n",
        "\n",
        "At the end of the notebook, you will:\n",
        "\n",
        "- Understand **the state space, action space and reward function used to train Huggy**.\n",
        "- **Train your own Huggy** to fetch the stick.\n",
        "- Be able to play **with your trained Huggy directly in your browser**.\n",
        "\n",
        "\n"
      ]
    },
    {
      "cell_type": "markdown",
      "metadata": {
        "id": "mUlVrqnBv2o1"
      },
      "source": [
        "## This notebook is from Deep Reinforcement Learning Course\n",
        "<img src=\"https://huggingface.co/datasets/huggingface-deep-rl-course/course-images/resolve/main/en/notebooks/deep-rl-course-illustration.jpg\" alt=\"Deep RL Course illustration\"/>"
      ]
    },
    {
      "cell_type": "markdown",
      "metadata": {
        "id": "pAMjaQpHwB_s"
      },
      "source": [
        "In this free course, you will:\n",
        "\n",
        "- 📖 Study Deep Reinforcement Learning in **theory and practice**.\n",
        "- 🧑‍💻 Learn to **use famous Deep RL libraries** such as Stable Baselines3, RL Baselines3 Zoo, CleanRL and Sample Factory 2.0.\n",
        "- 🤖 Train **agents in unique environments**\n",
        "\n",
        "And more check 📚 the syllabus 👉 https://simoninithomas.github.io/deep-rl-course\n",
        "\n",
        "Don’t forget to **<a href=\"http://eepurl.com/ic5ZUD\">sign up to the course</a>** (we are collecting your email to be able to **send you the links when each Unit is published and give you information about the challenges and updates).**\n",
        "\n",
        "\n",
        "The best way to keep in touch is to join our discord server to exchange with the community and with us 👉🏻 https://discord.gg/ydHrjt3WP5"
      ]
    },
    {
      "cell_type": "markdown",
      "metadata": {
        "id": "6r7Hl0uywFSO"
      },
      "source": [
        "## Prerequisites 🏗️\n",
        "\n",
        "Before diving into the notebook, you need to:\n",
        "\n",
        "🔲 📚 **Develop an understanding of the foundations of Reinforcement learning** (MC, TD, Rewards hypothesis...) by doing Unit 1\n",
        "\n",
        "🔲 📚 **Read the introduction to Huggy** by doing Bonus Unit 1"
      ]
    },
    {
      "cell_type": "markdown",
      "metadata": {
        "id": "DssdIjk_8vZE"
      },
      "source": [
        "## Set the GPU 💪\n",
        "- To **accelerate the agent's training, we'll use a GPU**. To do that, go to `Runtime > Change Runtime type`\n",
        "\n",
        "<img src=\"https://huggingface.co/datasets/huggingface-deep-rl-course/course-images/resolve/main/en/notebooks/gpu-step1.jpg\" alt=\"GPU Step 1\">"
      ]
    },
    {
      "cell_type": "markdown",
      "metadata": {
        "id": "sTfCXHy68xBv"
      },
      "source": [
        "- `Hardware Accelerator > GPU`\n",
        "\n",
        "<img src=\"https://huggingface.co/datasets/huggingface-deep-rl-course/course-images/resolve/main/en/notebooks/gpu-step2.jpg\" alt=\"GPU Step 2\">"
      ]
    },
    {
      "cell_type": "markdown",
      "metadata": {
        "id": "an3ByrXYQ4iK"
      },
      "source": [
        "## Clone the repository 🔽\n",
        "\n",
        "- We need to clone the repository, that contains **ML-Agents.**"
      ]
    },
    {
      "cell_type": "code",
      "execution_count": 2,
      "metadata": {
        "id": "6WNoL04M7rTa"
      },
      "outputs": [],
      "source": [
        "%%capture\n",
        "# Clone the repository (can take 3min)\n",
        "!git clone --depth 1 https://github.com/Unity-Technologies/ml-agents"
      ]
    },
    {
      "cell_type": "markdown",
      "metadata": {
        "id": "6cdw6-nGPeQt"
      },
      "source": [
        "## Setup the Virtual Environment 🔽\n",
        "- In order for the **ML-Agents** to run successfully in Colab,  Colab's Python version must meet the library's Python requirements.\n",
        "\n",
        "- We can check for the supported Python version under the `python_requires` parameter in the `setup.py` files. These files are required to set up the **ML-Agents** library for use and can be found in the following locations:\n",
        "  - `/content/ml-agents/ml-agents/setup.py`\n",
        "  - `/content/ml-agents/ml-agents-envs/setup.py`\n",
        "\n",
        "- Colab's Current Python version(can be checked using `!python --version`) doesn't match the library's `python_requires` parameter, as a result installation may silently fail and lead to errors like these, when executing the same commands later:\n",
        "  - `/bin/bash: line 1: mlagents-learn: command not found`\n",
        "  - `/bin/bash: line 1: mlagents-push-to-hf: command not found`\n",
        "\n",
        "- To resolve this, we'll create a virtual environment with a Python version compatible with the **ML-Agents** library.\n",
        "\n",
        "`Note:` *For future compatibility, always check the `python_requires` parameter in the installation files and set your virtual environment to the maximum supported Python version in the given below script if the Colab's Python version is not compatible*"
      ]
    },
    {
      "cell_type": "code",
      "execution_count": 3,
      "metadata": {
        "id": "Bfxty61lPeQu",
        "colab": {
          "base_uri": "https://localhost:8080/"
        },
        "outputId": "27067e65-fb55-466c-a770-e08ceefab7d6"
      },
      "outputs": [
        {
          "output_type": "stream",
          "name": "stdout",
          "text": [
            "Python 3.11.12\n"
          ]
        }
      ],
      "source": [
        "# Colab's Current Python Version (Incompatible with ML-Agents)\n",
        "!python --version"
      ]
    },
    {
      "cell_type": "code",
      "execution_count": 4,
      "metadata": {
        "id": "T27xN05BPeQu",
        "colab": {
          "base_uri": "https://localhost:8080/"
        },
        "outputId": "9b63c450-7233-40b7-dca5-f4fa4ca5b2e7"
      },
      "outputs": [
        {
          "output_type": "stream",
          "name": "stdout",
          "text": [
            "Collecting virtualenv\n",
            "  Downloading virtualenv-20.30.0-py3-none-any.whl.metadata (4.5 kB)\n",
            "Collecting distlib<1,>=0.3.7 (from virtualenv)\n",
            "  Downloading distlib-0.3.9-py2.py3-none-any.whl.metadata (5.2 kB)\n",
            "Requirement already satisfied: filelock<4,>=3.12.2 in /usr/local/lib/python3.11/dist-packages (from virtualenv) (3.18.0)\n",
            "Requirement already satisfied: platformdirs<5,>=3.9.1 in /usr/local/lib/python3.11/dist-packages (from virtualenv) (4.3.7)\n",
            "Downloading virtualenv-20.30.0-py3-none-any.whl (4.3 MB)\n",
            "\u001b[2K   \u001b[90m━━━━━━━━━━━━━━━━━━━━━━━━━━━━━━━━━━━━━━━━\u001b[0m \u001b[32m4.3/4.3 MB\u001b[0m \u001b[31m46.3 MB/s\u001b[0m eta \u001b[36m0:00:00\u001b[0m\n",
            "\u001b[?25hDownloading distlib-0.3.9-py2.py3-none-any.whl (468 kB)\n",
            "\u001b[2K   \u001b[90m━━━━━━━━━━━━━━━━━━━━━━━━━━━━━━━━━━━━━━━━\u001b[0m \u001b[32m469.0/469.0 kB\u001b[0m \u001b[31m27.4 MB/s\u001b[0m eta \u001b[36m0:00:00\u001b[0m\n",
            "\u001b[?25hInstalling collected packages: distlib, virtualenv\n",
            "Successfully installed distlib-0.3.9 virtualenv-20.30.0\n",
            "created virtual environment CPython3.11.12.final.0-64 in 824ms\n",
            "  creator CPython3Posix(dest=/content/myenv, clear=False, no_vcs_ignore=False, global=False)\n",
            "  seeder FromAppData(download=False, pip=bundle, setuptools=bundle, wheel=bundle, via=copy, app_data_dir=/root/.local/share/virtualenv)\n",
            "    added seed packages: pip==25.0.1, setuptools==78.1.0, wheel==0.45.1\n",
            "  activators BashActivator,CShellActivator,FishActivator,NushellActivator,PowerShellActivator,PythonActivator\n",
            "--2025-05-03 08:29:46--  https://repo.anaconda.com/miniconda/Miniconda3-latest-Linux-x86_64.sh\n",
            "Resolving repo.anaconda.com (repo.anaconda.com)... 104.16.32.241, 104.16.191.158, 2606:4700::6810:bf9e, ...\n",
            "Connecting to repo.anaconda.com (repo.anaconda.com)|104.16.32.241|:443... connected.\n",
            "HTTP request sent, awaiting response... 200 OK\n",
            "Length: 155472915 (148M) [application/octet-stream]\n",
            "Saving to: ‘Miniconda3-latest-Linux-x86_64.sh’\n",
            "\n",
            "Miniconda3-latest-L 100%[===================>] 148.27M   250MB/s    in 0.6s    \n",
            "\n",
            "2025-05-03 08:29:47 (250 MB/s) - ‘Miniconda3-latest-Linux-x86_64.sh’ saved [155472915/155472915]\n",
            "\n",
            "PREFIX=/usr/local\n",
            "Unpacking payload ...\n",
            "entry_point.py:256: DeprecationWarning: Python 3.14 will, by default, filter extracted tar archives and reject files or modify their metadata. Use the filter argument to control this behavior.\n",
            "entry_point.py:256: DeprecationWarning: Python 3.14 will, by default, filter extracted tar archives and reject files or modify their metadata. Use the filter argument to control this behavior.\n",
            "\n",
            "Installing base environment...\n",
            "\n",
            "Preparing transaction: ...working... done\n",
            "Executing transaction: ...working... done\n",
            "entry_point.py:256: DeprecationWarning: Python 3.14 will, by default, filter extracted tar archives and reject files or modify their metadata. Use the filter argument to control this behavior.\n",
            "installation finished.\n",
            "WARNING:\n",
            "    You currently have a PYTHONPATH environment variable set. This may cause\n",
            "    unexpected behavior when running the Python interpreter in Miniconda3.\n",
            "    For best results, please verify that your PYTHONPATH only points to\n",
            "    directories of packages that are compatible with the Python interpreter\n",
            "    in Miniconda3: /usr/local\n",
            "Channels:\n",
            " - defaults\n",
            "Platform: linux-64\n",
            "Collecting package metadata (repodata.json): ...working... done\n",
            "Solving environment: ...working... done\n",
            "\n",
            "## Package Plan ##\n",
            "\n",
            "  environment location: /usr/local\n",
            "\n",
            "  added / updated specs:\n",
            "    - python=3.10.12\n",
            "    - ujson\n",
            "\n",
            "\n",
            "The following packages will be downloaded:\n",
            "\n",
            "    package                    |            build\n",
            "    ---------------------------|-----------------\n",
            "    anaconda-anon-usage-0.7.0  |py310hfc0e8ea_101          29 KB\n",
            "    annotated-types-0.6.0      |  py310h06a4308_0          22 KB\n",
            "    boltons-24.1.0             |  py310h06a4308_0         425 KB\n",
            "    brotli-python-1.0.9        |  py310h6a678d5_9         356 KB\n",
            "    certifi-2025.4.26          |  py310h06a4308_0         156 KB\n",
            "    cffi-1.17.1                |  py310h1fdaa30_1         251 KB\n",
            "    conda-25.3.1               |  py310h06a4308_0         923 KB\n",
            "    conda-anaconda-telemetry-0.1.2|  py310h06a4308_1          13 KB\n",
            "    conda-anaconda-tos-0.1.3   |  py310h06a4308_0          36 KB\n",
            "    conda-content-trust-0.2.0  |  py310h06a4308_1          51 KB\n",
            "    conda-package-handling-2.4.0|  py310h06a4308_0         272 KB\n",
            "    conda-package-streaming-0.11.0|  py310h06a4308_0          30 KB\n",
            "    cryptography-44.0.1        |  py310h7825ff9_0         1.5 MB\n",
            "    distro-1.9.0               |  py310h06a4308_0          31 KB\n",
            "    frozendict-2.4.2           |  py310h5eee18b_0          55 KB\n",
            "    idna-3.7                   |  py310h06a4308_0         130 KB\n",
            "    jsonpatch-1.33             |  py310h06a4308_1          31 KB\n",
            "    libmambapy-2.0.5           |  py310hdb19cb5_1         671 KB\n",
            "    markdown-it-py-2.2.0       |  py310h06a4308_1         114 KB\n",
            "    mdurl-0.1.0                |  py310h06a4308_0          18 KB\n",
            "    menuinst-2.2.0             |  py310h06a4308_1         224 KB\n",
            "    packaging-24.2             |  py310h06a4308_0         174 KB\n",
            "    pip-25.1                   |     pyhc872135_2         1.3 MB\n",
            "    platformdirs-4.3.7         |  py310h06a4308_0          37 KB\n",
            "    pluggy-1.5.0               |  py310h06a4308_0          37 KB\n",
            "    pybind11-abi-4             |       hd3eb1b0_1          14 KB\n",
            "    pycosat-0.6.6              |  py310h5eee18b_2          88 KB\n",
            "    pydantic-2.10.3            |  py310h06a4308_0         655 KB\n",
            "    pydantic-core-2.27.1       |  py310h4aa5aa6_0         1.5 MB\n",
            "    pygments-2.19.1            |  py310h06a4308_0         1.9 MB\n",
            "    pysocks-1.7.1              |  py310h06a4308_0          28 KB\n",
            "    python-3.10.12             |       h955ad1f_0        26.8 MB\n",
            "    requests-2.32.3            |  py310h06a4308_1         101 KB\n",
            "    rich-13.9.4                |  py310h06a4308_0         502 KB\n",
            "    ruamel.yaml-0.18.10        |  py310h5eee18b_0         205 KB\n",
            "    ruamel.yaml.clib-0.2.12    |  py310h5eee18b_0         158 KB\n",
            "    setuptools-78.1.1          |  py310h06a4308_0         1.7 MB\n",
            "    tqdm-4.67.1                |  py310h2f386ee_0         134 KB\n",
            "    truststore-0.10.0          |  py310h06a4308_0          40 KB\n",
            "    typing-extensions-4.12.2   |  py310h06a4308_0           9 KB\n",
            "    typing_extensions-4.12.2   |  py310h06a4308_0          65 KB\n",
            "    ujson-5.10.0               |  py310h6a678d5_1         141 KB\n",
            "    urllib3-2.3.0              |  py310h06a4308_0         190 KB\n",
            "    wheel-0.45.1               |  py310h06a4308_0         115 KB\n",
            "    zstandard-0.23.0           |  py310h2c38b39_1         431 KB\n",
            "    ------------------------------------------------------------\n",
            "                                           Total:        41.5 MB\n",
            "\n",
            "The following NEW packages will be INSTALLED:\n",
            "\n",
            "  ujson              pkgs/main/linux-64::ujson-5.10.0-py310h6a678d5_1 \n",
            "\n",
            "The following packages will be REMOVED:\n",
            "\n",
            "  expat-2.7.1-h6a678d5_0\n",
            "  libmpdec-4.0.0-h5eee18b_0\n",
            "  python_abi-3.13-0_cp313\n",
            "\n",
            "The following packages will be UPDATED:\n",
            "\n",
            "  pip                pkgs/main/linux-64::pip-25.0-py313h06~ --> pkgs/main/noarch::pip-25.1-pyhc872135_2 \n",
            "\n",
            "The following packages will be DOWNGRADED:\n",
            "\n",
            "  anaconda-anon-usa~                0.7.0-py313hfc0e8ea_101 --> 0.7.0-py310hfc0e8ea_101 \n",
            "  annotated-types                     0.6.0-py313h06a4308_0 --> 0.6.0-py310h06a4308_0 \n",
            "  boltons                            24.1.0-py313h06a4308_0 --> 24.1.0-py310h06a4308_0 \n",
            "  brotli-python                       1.0.9-py313h6a678d5_9 --> 1.0.9-py310h6a678d5_9 \n",
            "  certifi                         2025.4.26-py313h06a4308_0 --> 2025.4.26-py310h06a4308_0 \n",
            "  cffi                               1.17.1-py313h1fdaa30_1 --> 1.17.1-py310h1fdaa30_1 \n",
            "  conda                              25.3.1-py313h06a4308_0 --> 25.3.1-py310h06a4308_0 \n",
            "  conda-anaconda-te~                  0.1.2-py313h06a4308_1 --> 0.1.2-py310h06a4308_1 \n",
            "  conda-anaconda-tos                  0.1.3-py313h06a4308_0 --> 0.1.3-py310h06a4308_0 \n",
            "  conda-content-tru~                  0.2.0-py313h06a4308_1 --> 0.2.0-py310h06a4308_1 \n",
            "  conda-package-han~                  2.4.0-py313h06a4308_0 --> 2.4.0-py310h06a4308_0 \n",
            "  conda-package-str~                 0.11.0-py313h06a4308_0 --> 0.11.0-py310h06a4308_0 \n",
            "  cryptography                       44.0.1-py313h7825ff9_0 --> 44.0.1-py310h7825ff9_0 \n",
            "  distro                              1.9.0-py313h06a4308_0 --> 1.9.0-py310h06a4308_0 \n",
            "  frozendict                          2.4.2-py313h06a4308_0 --> 2.4.2-py310h5eee18b_0 \n",
            "  idna                                  3.7-py313h06a4308_0 --> 3.7-py310h06a4308_0 \n",
            "  jsonpatch                            1.33-py313h06a4308_1 --> 1.33-py310h06a4308_1 \n",
            "  libmambapy                          2.0.5-py313hdb19cb5_1 --> 2.0.5-py310hdb19cb5_1 \n",
            "  markdown-it-py                      2.2.0-py313h06a4308_1 --> 2.2.0-py310h06a4308_1 \n",
            "  mdurl                               0.1.0-py313h06a4308_0 --> 0.1.0-py310h06a4308_0 \n",
            "  menuinst                            2.2.0-py313h06a4308_1 --> 2.2.0-py310h06a4308_1 \n",
            "  packaging                            24.2-py313h06a4308_0 --> 24.2-py310h06a4308_0 \n",
            "  platformdirs                        4.3.7-py313h06a4308_0 --> 4.3.7-py310h06a4308_0 \n",
            "  pluggy                              1.5.0-py313h06a4308_0 --> 1.5.0-py310h06a4308_0 \n",
            "  pybind11-abi                                 5-hd3eb1b0_0 --> 4-hd3eb1b0_1 \n",
            "  pycosat                             0.6.6-py313h5eee18b_2 --> 0.6.6-py310h5eee18b_2 \n",
            "  pydantic                           2.10.3-py313h06a4308_0 --> 2.10.3-py310h06a4308_0 \n",
            "  pydantic-core                      2.27.1-py313h4aa5aa6_0 --> 2.27.1-py310h4aa5aa6_0 \n",
            "  pygments                           2.19.1-py313h06a4308_0 --> 2.19.1-py310h06a4308_0 \n",
            "  pysocks                             1.7.1-py313h06a4308_0 --> 1.7.1-py310h06a4308_0 \n",
            "  python                          3.13.2-hf623796_100_cp313 --> 3.10.12-h955ad1f_0 \n",
            "  requests                           2.32.3-py313h06a4308_1 --> 2.32.3-py310h06a4308_1 \n",
            "  rich                               13.9.4-py313h06a4308_0 --> 13.9.4-py310h06a4308_0 \n",
            "  ruamel.yaml                       0.18.10-py313h5eee18b_0 --> 0.18.10-py310h5eee18b_0 \n",
            "  ruamel.yaml.clib                   0.2.12-py313h5eee18b_0 --> 0.2.12-py310h5eee18b_0 \n",
            "  setuptools                         78.1.1-py313h06a4308_0 --> 78.1.1-py310h06a4308_0 \n",
            "  tqdm                               4.67.1-py313h7040dfc_0 --> 4.67.1-py310h2f386ee_0 \n",
            "  truststore                         0.10.0-py313h06a4308_0 --> 0.10.0-py310h06a4308_0 \n",
            "  typing-extensions                  4.12.2-py313h06a4308_0 --> 4.12.2-py310h06a4308_0 \n",
            "  typing_extensions                  4.12.2-py313h06a4308_0 --> 4.12.2-py310h06a4308_0 \n",
            "  urllib3                             2.3.0-py313h06a4308_0 --> 2.3.0-py310h06a4308_0 \n",
            "  wheel                              0.45.1-py313h06a4308_0 --> 0.45.1-py310h06a4308_0 \n",
            "  zstandard                          0.23.0-py313h2c38b39_1 --> 0.23.0-py310h2c38b39_1 \n",
            "\n",
            "\n",
            "Preparing transaction: ...working... done\n",
            "Verifying transaction: ...working... done\n",
            "Executing transaction: ...working... Removed 2 cache files.\n",
            "Removed 0 Terms of Service files.\n",
            "\n",
            "done\n"
          ]
        }
      ],
      "source": [
        "# Install virtualenv and create a virtual environment\n",
        "!pip install virtualenv\n",
        "!virtualenv myenv\n",
        "\n",
        "# Download and install Miniconda\n",
        "!wget https://repo.anaconda.com/miniconda/Miniconda3-latest-Linux-x86_64.sh\n",
        "!chmod +x Miniconda3-latest-Linux-x86_64.sh\n",
        "!./Miniconda3-latest-Linux-x86_64.sh -b -f -p /usr/local\n",
        "\n",
        "# Activate Miniconda and install Python ver 3.10.12\n",
        "!source /usr/local/bin/activate\n",
        "!conda install -q -y --prefix /usr/local python=3.10.12 ujson  # Specify the version here\n",
        "\n",
        "# Set environment variables for Python and conda paths\n",
        "!export PYTHONPATH=/usr/local/lib/python3.10/site-packages/\n",
        "!export CONDA_PREFIX=/usr/local/envs/myenv"
      ]
    },
    {
      "cell_type": "code",
      "execution_count": 5,
      "metadata": {
        "id": "mtbnCEfyPeQu",
        "colab": {
          "base_uri": "https://localhost:8080/"
        },
        "outputId": "25f4a84e-95f1-46b8-ddba-da2a0b7f4a59"
      },
      "outputs": [
        {
          "output_type": "stream",
          "name": "stdout",
          "text": [
            "Python 3.10.12\n"
          ]
        }
      ],
      "source": [
        "# Python Version in New Virtual Environment (Compatible with ML-Agents)\n",
        "!python --version"
      ]
    },
    {
      "cell_type": "markdown",
      "metadata": {
        "id": "c-BjXyilPeQv"
      },
      "source": [
        "## Installing the dependencies 🔽"
      ]
    },
    {
      "cell_type": "code",
      "execution_count": 6,
      "metadata": {
        "id": "d8wmVcMk7xKo"
      },
      "outputs": [],
      "source": [
        "%%capture\n",
        "# Go inside the repository and install the package (can take 3min)\n",
        "%cd ml-agents\n",
        "!pip3 install -e ./ml-agents-envs\n",
        "!pip3 install -e ./ml-agents"
      ]
    },
    {
      "cell_type": "markdown",
      "metadata": {
        "id": "HRY5ufKUKfhI"
      },
      "source": [
        "## Download and move the environment zip file in `./trained-envs-executables/linux/`\n",
        "\n",
        "- Our environment executable is in a zip file.\n",
        "- We need to download it and place it to `./trained-envs-executables/linux/`"
      ]
    },
    {
      "cell_type": "code",
      "execution_count": 7,
      "metadata": {
        "id": "C9Ls6_6eOKiA"
      },
      "outputs": [],
      "source": [
        "!mkdir ./trained-envs-executables\n",
        "!mkdir ./trained-envs-executables/linux"
      ]
    },
    {
      "cell_type": "markdown",
      "metadata": {
        "id": "IHh_LXsRrrbM"
      },
      "source": [
        "We downloaded the file Huggy.zip from https://github.com/huggingface/Huggy using `wget`"
      ]
    },
    {
      "cell_type": "code",
      "execution_count": 8,
      "metadata": {
        "id": "8xNAD1tRpy0_",
        "colab": {
          "base_uri": "https://localhost:8080/"
        },
        "outputId": "89003cd2-15df-4a42-83ea-3018a7c0b880"
      },
      "outputs": [
        {
          "output_type": "stream",
          "name": "stdout",
          "text": [
            "--2025-05-03 08:33:09--  https://github.com/huggingface/Huggy/raw/main/Huggy.zip\n",
            "Resolving github.com (github.com)... 140.82.116.4\n",
            "Connecting to github.com (github.com)|140.82.116.4|:443... connected.\n",
            "HTTP request sent, awaiting response... 302 Found\n",
            "Location: https://media.githubusercontent.com/media/huggingface/Huggy/main/Huggy.zip [following]\n",
            "--2025-05-03 08:33:09--  https://media.githubusercontent.com/media/huggingface/Huggy/main/Huggy.zip\n",
            "Resolving media.githubusercontent.com (media.githubusercontent.com)... 185.199.109.133, 185.199.111.133, 185.199.108.133, ...\n",
            "Connecting to media.githubusercontent.com (media.githubusercontent.com)|185.199.109.133|:443... connected.\n",
            "HTTP request sent, awaiting response... 200 OK\n",
            "Length: 39214997 (37M) [application/zip]\n",
            "Saving to: ‘./trained-envs-executables/linux/Huggy.zip’\n",
            "\n",
            "./trained-envs-exec 100%[===================>]  37.40M  --.-KB/s    in 0.1s    \n",
            "\n",
            "2025-05-03 08:33:10 (261 MB/s) - ‘./trained-envs-executables/linux/Huggy.zip’ saved [39214997/39214997]\n",
            "\n"
          ]
        }
      ],
      "source": [
        "!wget \"https://github.com/huggingface/Huggy/raw/main/Huggy.zip\" -O ./trained-envs-executables/linux/Huggy.zip"
      ]
    },
    {
      "cell_type": "code",
      "execution_count": 9,
      "metadata": {
        "id": "8FPx0an9IAwO"
      },
      "outputs": [],
      "source": [
        "%%capture\n",
        "!unzip -d ./trained-envs-executables/linux/ ./trained-envs-executables/linux/Huggy.zip"
      ]
    },
    {
      "cell_type": "markdown",
      "metadata": {
        "id": "nyumV5XfPKzu"
      },
      "source": [
        "Make sure your file is accessible"
      ]
    },
    {
      "cell_type": "code",
      "execution_count": 10,
      "metadata": {
        "id": "EdFsLJ11JvQf"
      },
      "outputs": [],
      "source": [
        "!chmod -R 755 ./trained-envs-executables/linux/Huggy"
      ]
    },
    {
      "cell_type": "markdown",
      "metadata": {
        "id": "dYKVj8yUvj55"
      },
      "source": [
        "## Let's recap how this environment works\n",
        "\n",
        "### The State Space: what Huggy \"perceives.\"\n",
        "\n",
        "Huggy doesn't \"see\" his environment. Instead, we provide him information about the environment:\n",
        "\n",
        "- The target (stick) position\n",
        "- The relative position between himself and the target\n",
        "- The orientation of his legs.\n",
        "\n",
        "Given all this information, Huggy **can decide which action to take next to fulfill his goal**.\n",
        "\n",
        "<img src=\"https://huggingface.co/datasets/huggingface-deep-rl-course/course-images/resolve/main/en/notebooks/unit-bonus1/huggy.jpg\" alt=\"Huggy\" width=\"100%\">\n",
        "\n",
        "\n",
        "### The Action Space: what moves Huggy can do\n",
        "<img src=\"https://huggingface.co/datasets/huggingface-deep-rl-course/course-images/resolve/main/en/notebooks/unit-bonus1/huggy-action.jpg\" alt=\"Huggy action\" width=\"100%\">\n",
        "\n",
        "**Joint motors drive huggy legs**. It means that to get the target, Huggy needs to **learn to rotate the joint motors of each of his legs correctly so he can move**.\n",
        "\n",
        "### The Reward Function\n",
        "\n",
        "The reward function is designed so that **Huggy will fulfill his goal** : fetch the stick.\n",
        "\n",
        "Remember that one of the foundations of Reinforcement Learning is the *reward hypothesis*: a goal can be described as the **maximization of the expected cumulative reward**.\n",
        "\n",
        "Here, our goal is that Huggy **goes towards the stick but without spinning too much**. Hence, our reward function must translate this goal.\n",
        "\n",
        "Our reward function:\n",
        "\n",
        "<img src=\"https://huggingface.co/datasets/huggingface-deep-rl-course/course-images/resolve/main/en/notebooks/unit-bonus1/reward.jpg\" alt=\"Huggy reward function\" width=\"100%\">\n",
        "\n",
        "- *Orientation bonus*: we **reward him for getting close to the target**.\n",
        "- *Time penalty*: a fixed-time penalty given at every action to **force him to get to the stick as fast as possible**.\n",
        "- *Rotation penalty*: we penalize Huggy if **he spins too much and turns too quickly**.\n",
        "- *Getting to the target reward*: we reward Huggy for **reaching the target**."
      ]
    },
    {
      "cell_type": "markdown",
      "metadata": {
        "id": "NAuEq32Mwvtz"
      },
      "source": [
        "## Create the Huggy config file\n",
        "\n",
        "- In ML-Agents, you define the **training hyperparameters into config.yaml files.**\n",
        "\n",
        "- For the scope of this notebook, we're not going to modify the hyperparameters, but if you want to try as an experiment, you should also try to modify some other hyperparameters, Unity provides very [good documentation explaining each of them here](https://github.com/Unity-Technologies/ml-agents/blob/main/docs/Training-Configuration-File.md).\n",
        "\n",
        "- But we need to create a config file for Huggy.\n",
        "\n",
        "  - To do that click on Folder logo on the left of your screen.\n",
        "\n",
        "  <img src=\"https://huggingface.co/datasets/huggingface-deep-rl-course/course-images/resolve/main/en/unit1/create_file.png\" alt=\"Create file\" width=\"10%\">\n",
        "\n",
        "  - Go to `/content/ml-agents/config/ppo`\n",
        "  - Right mouse click and create a new file called `Huggy.yaml`\n",
        "\n",
        "  <img src=\"https://huggingface.co/datasets/huggingface-deep-rl-course/course-images/resolve/main/en/unit1/create-huggy.png\" alt=\"Create huggy.yaml\" width=\"20%\">\n",
        "\n",
        "- Copy and paste the content below 🔽"
      ]
    },
    {
      "cell_type": "code",
      "execution_count": 12,
      "metadata": {
        "id": "loQ0N5jhXW71",
        "colab": {
          "base_uri": "https://localhost:8080/",
          "height": 106
        },
        "outputId": "027a5ff0-da7d-4e7a-df75-863227539d42"
      },
      "outputs": [
        {
          "output_type": "error",
          "ename": "SyntaxError",
          "evalue": "invalid syntax (<ipython-input-12-f61497f0c1c1>, line 1)",
          "traceback": [
            "\u001b[0;36m  File \u001b[0;32m\"<ipython-input-12-f61497f0c1c1>\"\u001b[0;36m, line \u001b[0;32m1\u001b[0m\n\u001b[0;31m    behaviors:\u001b[0m\n\u001b[0m              ^\u001b[0m\n\u001b[0;31mSyntaxError\u001b[0m\u001b[0;31m:\u001b[0m invalid syntax\n"
          ]
        }
      ],
      "source": [
        "behaviors:\n",
        "  Huggy:\n",
        "    trainer_type: ppo\n",
        "    hyperparameters:\n",
        "      batch_size: 1024\n",
        "      buffer_size: 20480\n",
        "      learning_rate: 0.001\n",
        "      beta: 0.005\n",
        "      epsilon: 0.2\n",
        "      lambd: 0.95\n",
        "      num_epoch: 3\n",
        "      learning_rate_schedule: linear\n",
        "    network_settings:\n",
        "      normalize: true\n",
        "      hidden_units: 512\n",
        "      num_layers: 3\n",
        "      vis_encode_type: simple\n",
        "    reward_signals:\n",
        "      extrinsic:\n",
        "        gamma: 0.99\n",
        "        strength: 1.0\n",
        "    checkpoint_interval: 200000\n",
        "    keep_checkpoints: 15\n",
        "    max_steps: 2e6\n",
        "    time_horizon: 1000\n",
        "    summary_freq: 50000"
      ]
    },
    {
      "cell_type": "markdown",
      "metadata": {
        "id": "oakN7UHwXdCX"
      },
      "source": [
        "- Don't forget to save the file!"
      ]
    },
    {
      "cell_type": "markdown",
      "metadata": {
        "id": "r9wv5NYGw-05"
      },
      "source": [
        "- **In the case you want to modify the hyperparameters**, in Google Colab notebook, you can click here to open the config.yaml: `/content/ml-agents/config/ppo/Huggy.yaml`\n",
        "\n",
        "- For instance **if you want to save more models during the training** (for now, we save every 200,000 training timesteps). You need to modify:\n",
        "  - `checkpoint_interval`: The number of training timesteps collected between each checkpoint.\n",
        "  - `keep_checkpoints`: The maximum number of model checkpoints to keep.\n",
        "\n",
        "=> Just keep in mind that **decreasing the `checkpoint_interval` means more models to upload to the Hub and so a longer uploading time**\n",
        "We’re now ready to train our agent 🔥."
      ]
    },
    {
      "cell_type": "markdown",
      "metadata": {
        "id": "f9fI555bO12v"
      },
      "source": [
        "## Train our agent\n",
        "\n",
        "To train our agent, we just need to **launch mlagents-learn and select the executable containing the environment.**\n",
        "\n",
        "<img src=\"https://huggingface.co/datasets/huggingface-deep-rl-course/course-images/resolve/main/en/notebooks/unit-bonus1/mllearn.png\" alt=\"ml learn function\" width=\"100%\">\n",
        "\n",
        "With ML Agents, we run a training script. We define four parameters:\n",
        "\n",
        "1. `mlagents-learn <config>`: the path where the hyperparameter config file is.\n",
        "2. `--env`: where the environment executable is.\n",
        "3. `--run-id`: the name you want to give to your training run id.\n",
        "4. `--no-graphics`: to not launch the visualization during the training.\n",
        "\n",
        "Train the model and use the `--resume` flag to continue training in case of interruption.\n",
        "\n",
        "> It will fail first time when you use `--resume`, try running the block again to bypass the error.\n",
        "\n"
      ]
    },
    {
      "cell_type": "markdown",
      "metadata": {
        "id": "lN32oWF8zPjs"
      },
      "source": [
        "The training will take 30 to 45min depending on your machine (don't forget to **set up a GPU**), go take a ☕️you deserve it 🤗."
      ]
    },
    {
      "cell_type": "code",
      "execution_count": 13,
      "metadata": {
        "id": "bS-Yh1UdHfzy",
        "colab": {
          "base_uri": "https://localhost:8080/"
        },
        "outputId": "7403715e-af45-400d-f02b-6431fb55b66f"
      },
      "outputs": [
        {
          "output_type": "stream",
          "name": "stdout",
          "text": [
            "\n",
            "            ┐  ╖\n",
            "        ╓╖╬│╡  ││╬╖╖\n",
            "    ╓╖╬│││││┘  ╬│││││╬╖\n",
            " ╖╬│││││╬╜        ╙╬│││││╖╖                               ╗╗╗\n",
            " ╬╬╬╬╖││╦╖        ╖╬││╗╣╣╣╬      ╟╣╣╬    ╟╣╣╣             ╜╜╜  ╟╣╣\n",
            " ╬╬╬╬╬╬╬╬╖│╬╖╖╓╬╪│╓╣╣╣╣╣╣╣╬      ╟╣╣╬    ╟╣╣╣ ╒╣╣╖╗╣╣╣╗   ╣╣╣ ╣╣╣╣╣╣ ╟╣╣╖   ╣╣╣\n",
            " ╬╬╬╬┐  ╙╬╬╬╬│╓╣╣╣╝╜  ╫╣╣╣╬      ╟╣╣╬    ╟╣╣╣ ╟╣╣╣╙ ╙╣╣╣  ╣╣╣ ╙╟╣╣╜╙  ╫╣╣  ╟╣╣\n",
            " ╬╬╬╬┐     ╙╬╬╣╣      ╫╣╣╣╬      ╟╣╣╬    ╟╣╣╣ ╟╣╣╬   ╣╣╣  ╣╣╣  ╟╣╣     ╣╣╣┌╣╣╜\n",
            " ╬╬╬╜       ╬╬╣╣      ╙╝╣╣╬      ╙╣╣╣╗╖╓╗╣╣╣╜ ╟╣╣╬   ╣╣╣  ╣╣╣  ╟╣╣╦╓    ╣╣╣╣╣\n",
            " ╙   ╓╦╖    ╬╬╣╣   ╓╗╗╖            ╙╝╣╣╣╣╝╜   ╘╝╝╜   ╝╝╝  ╝╝╝   ╙╣╣╣    ╟╣╣╣\n",
            "   ╩╬╬╬╬╬╬╦╦╬╬╣╣╗╣╣╣╣╣╣╣╝                                             ╫╣╣╣╣\n",
            "      ╙╬╬╬╬╬╬╬╣╣╣╣╣╣╝╜\n",
            "          ╙╬╬╬╣╣╣╜\n",
            "             ╙\n",
            "        \n",
            " Version information:\n",
            "  ml-agents: 1.2.0.dev0,\n",
            "  ml-agents-envs: 1.2.0.dev0,\n",
            "  Communicator API: 1.5.0,\n",
            "  PyTorch: 2.7.0+cu126\n",
            "[INFO] Connected to Unity environment with package version 2.2.1-exp.1 and communication version 1.5.0\n",
            "[INFO] Connected new brain: Huggy?team=0\n",
            "[INFO] Hyperparameters for behavior name Huggy: \n",
            "\ttrainer_type:\tppo\n",
            "\thyperparameters:\t\n",
            "\t  batch_size:\t1024\n",
            "\t  buffer_size:\t20480\n",
            "\t  learning_rate:\t0.001\n",
            "\t  beta:\t0.005\n",
            "\t  epsilon:\t0.2\n",
            "\t  lambd:\t0.95\n",
            "\t  num_epoch:\t3\n",
            "\t  shared_critic:\tFalse\n",
            "\t  learning_rate_schedule:\tlinear\n",
            "\t  beta_schedule:\tlinear\n",
            "\t  epsilon_schedule:\tlinear\n",
            "\tcheckpoint_interval:\t200000\n",
            "\tnetwork_settings:\t\n",
            "\t  normalize:\tTrue\n",
            "\t  hidden_units:\t512\n",
            "\t  num_layers:\t3\n",
            "\t  vis_encode_type:\tsimple\n",
            "\t  memory:\tNone\n",
            "\t  goal_conditioning_type:\thyper\n",
            "\t  deterministic:\tFalse\n",
            "\treward_signals:\t\n",
            "\t  extrinsic:\t\n",
            "\t    gamma:\t0.99\n",
            "\t    strength:\t1.0\n",
            "\t    network_settings:\t\n",
            "\t      normalize:\tFalse\n",
            "\t      hidden_units:\t128\n",
            "\t      num_layers:\t2\n",
            "\t      vis_encode_type:\tsimple\n",
            "\t      memory:\tNone\n",
            "\t      goal_conditioning_type:\thyper\n",
            "\t      deterministic:\tFalse\n",
            "\tinit_path:\tNone\n",
            "\tkeep_checkpoints:\t15\n",
            "\teven_checkpoints:\tFalse\n",
            "\tmax_steps:\t2000000\n",
            "\ttime_horizon:\t1000\n",
            "\tsummary_freq:\t50000\n",
            "\tthreaded:\tFalse\n",
            "\tself_play:\tNone\n",
            "\tbehavioral_cloning:\tNone\n",
            "[INFO] Huggy. Step: 50000. Time Elapsed: 65.289 s. Mean Reward: 1.964. Std of Reward: 1.102. Training.\n",
            "[INFO] Huggy. Step: 100000. Time Elapsed: 121.088 s. Mean Reward: 2.797. Std of Reward: 1.044. Training.\n",
            "[INFO] Huggy. Step: 150000. Time Elapsed: 178.622 s. Mean Reward: 3.050. Std of Reward: 1.311. Training.\n",
            "[INFO] Huggy. Step: 200000. Time Elapsed: 236.390 s. Mean Reward: 3.471. Std of Reward: 1.414. Training.\n",
            "[INFO] Exported results/Huggy2/Huggy/Huggy-199893.onnx\n",
            "[INFO] Huggy. Step: 250000. Time Elapsed: 296.190 s. Mean Reward: 3.547. Std of Reward: 1.486. Training.\n",
            "[INFO] Huggy. Step: 300000. Time Elapsed: 352.648 s. Mean Reward: 3.828. Std of Reward: 1.506. Training.\n",
            "[INFO] Huggy. Step: 350000. Time Elapsed: 408.559 s. Mean Reward: 3.867. Std of Reward: 1.478. Training.\n",
            "[INFO] Huggy. Step: 400000. Time Elapsed: 469.771 s. Mean Reward: 3.749. Std of Reward: 1.575. Training.\n",
            "[INFO] Exported results/Huggy2/Huggy/Huggy-399947.onnx\n",
            "[INFO] Huggy. Step: 450000. Time Elapsed: 527.021 s. Mean Reward: 3.916. Std of Reward: 1.565. Training.\n",
            "[INFO] Huggy. Step: 500000. Time Elapsed: 586.741 s. Mean Reward: 3.980. Std of Reward: 1.575. Training.\n",
            "[INFO] Huggy. Step: 550000. Time Elapsed: 644.878 s. Mean Reward: 3.699. Std of Reward: 1.631. Training.\n",
            "[INFO] Huggy. Step: 600000. Time Elapsed: 707.416 s. Mean Reward: 3.877. Std of Reward: 1.619. Training.\n",
            "[INFO] Exported results/Huggy2/Huggy/Huggy-599963.onnx\n",
            "[INFO] Huggy. Step: 650000. Time Elapsed: 765.611 s. Mean Reward: 3.934. Std of Reward: 1.668. Training.\n",
            "[INFO] Huggy. Step: 700000. Time Elapsed: 824.716 s. Mean Reward: 3.967. Std of Reward: 1.667. Training.\n",
            "[INFO] Huggy. Step: 750000. Time Elapsed: 887.303 s. Mean Reward: 3.970. Std of Reward: 1.697. Training.\n",
            "[INFO] Huggy. Step: 800000. Time Elapsed: 946.346 s. Mean Reward: 3.852. Std of Reward: 1.747. Training.\n",
            "[INFO] Exported results/Huggy2/Huggy/Huggy-799262.onnx\n",
            "[INFO] Huggy. Step: 850000. Time Elapsed: 1008.944 s. Mean Reward: 3.878. Std of Reward: 1.828. Training.\n",
            "[INFO] Huggy. Step: 900000. Time Elapsed: 1066.677 s. Mean Reward: 3.944. Std of Reward: 1.863. Training.\n",
            "[INFO] Huggy. Step: 950000. Time Elapsed: 1128.004 s. Mean Reward: 3.875. Std of Reward: 1.772. Training.\n",
            "[INFO] Huggy. Step: 1000000. Time Elapsed: 1187.861 s. Mean Reward: 3.988. Std of Reward: 1.839. Training.\n",
            "[INFO] Exported results/Huggy2/Huggy/Huggy-999897.onnx\n",
            "[INFO] Huggy. Step: 1050000. Time Elapsed: 1248.438 s. Mean Reward: 3.809. Std of Reward: 1.829. Training.\n",
            "[INFO] Huggy. Step: 1100000. Time Elapsed: 1312.172 s. Mean Reward: 3.877. Std of Reward: 1.781. Training.\n",
            "[INFO] Huggy. Step: 1150000. Time Elapsed: 1371.411 s. Mean Reward: 3.928. Std of Reward: 1.782. Training.\n",
            "[INFO] Huggy. Step: 1200000. Time Elapsed: 1434.858 s. Mean Reward: 3.927. Std of Reward: 1.763. Training.\n",
            "[INFO] Exported results/Huggy2/Huggy/Huggy-1199925.onnx\n",
            "[INFO] Huggy. Step: 1250000. Time Elapsed: 1494.079 s. Mean Reward: 4.030. Std of Reward: 1.835. Training.\n",
            "[INFO] Huggy. Step: 1300000. Time Elapsed: 1557.547 s. Mean Reward: 3.880. Std of Reward: 1.825. Training.\n",
            "[INFO] Huggy. Step: 1350000. Time Elapsed: 1617.837 s. Mean Reward: 3.870. Std of Reward: 1.827. Training.\n",
            "[INFO] Huggy. Step: 1400000. Time Elapsed: 1676.169 s. Mean Reward: 3.786. Std of Reward: 1.834. Training.\n",
            "[INFO] Exported results/Huggy2/Huggy/Huggy-1399953.onnx\n",
            "[INFO] Huggy. Step: 1450000. Time Elapsed: 1738.802 s. Mean Reward: 3.939. Std of Reward: 1.847. Training.\n",
            "[INFO] Huggy. Step: 1500000. Time Elapsed: 1798.076 s. Mean Reward: 4.011. Std of Reward: 1.817. Training.\n",
            "[INFO] Huggy. Step: 1550000. Time Elapsed: 1861.593 s. Mean Reward: 3.847. Std of Reward: 1.743. Training.\n",
            "[INFO] Huggy. Step: 1600000. Time Elapsed: 1919.360 s. Mean Reward: 3.918. Std of Reward: 1.790. Training.\n",
            "[INFO] Exported results/Huggy2/Huggy/Huggy-1599936.onnx\n",
            "[INFO] Huggy. Step: 1650000. Time Elapsed: 1983.564 s. Mean Reward: 3.853. Std of Reward: 1.724. Training.\n",
            "[INFO] Huggy. Step: 1700000. Time Elapsed: 2042.088 s. Mean Reward: 3.899. Std of Reward: 1.774. Training.\n",
            "[INFO] Huggy. Step: 1750000. Time Elapsed: 2101.524 s. Mean Reward: 4.041. Std of Reward: 1.853. Training.\n",
            "[INFO] Huggy. Step: 1800000. Time Elapsed: 2164.525 s. Mean Reward: 3.958. Std of Reward: 1.740. Training.\n",
            "[INFO] Exported results/Huggy2/Huggy/Huggy-1799804.onnx\n",
            "[INFO] Huggy. Step: 1850000. Time Elapsed: 2224.312 s. Mean Reward: 3.877. Std of Reward: 1.703. Training.\n",
            "[INFO] Huggy. Step: 1900000. Time Elapsed: 2286.876 s. Mean Reward: 3.914. Std of Reward: 1.806. Training.\n",
            "[INFO] Huggy. Step: 1950000. Time Elapsed: 2346.619 s. Mean Reward: 3.964. Std of Reward: 1.799. Training.\n",
            "[INFO] Huggy. Step: 2000000. Time Elapsed: 2409.652 s. Mean Reward: 3.930. Std of Reward: 1.760. Training.\n",
            "[INFO] Exported results/Huggy2/Huggy/Huggy-1999964.onnx\n",
            "[INFO] Exported results/Huggy2/Huggy/Huggy-2000021.onnx\n",
            "[INFO] Copied results/Huggy2/Huggy/Huggy-2000021.onnx to results/Huggy2/Huggy.onnx.\n"
          ]
        }
      ],
      "source": [
        "!mlagents-learn ./config/ppo/Huggy.yaml --env=./trained-envs-executables/linux/Huggy/Huggy --run-id=\"Huggy2\" --no-graphics"
      ]
    },
    {
      "cell_type": "markdown",
      "metadata": {
        "id": "5Vue94AzPy1t"
      },
      "source": [
        "## Push the agent to the 🤗 Hub\n",
        "\n",
        "- Now that we trained our agent, we’re **ready to push it to the Hub to be able to play with Huggy on your browser🔥.**"
      ]
    },
    {
      "cell_type": "markdown",
      "metadata": {
        "id": "izT6FpgNzZ6R"
      },
      "source": [
        "To be able to share your model with the community there are three more steps to follow:\n",
        "\n",
        "1️⃣ (If it's not already done) create an account to HF ➡ https://huggingface.co/join\n",
        "\n",
        "2️⃣ Sign in and then, you need to store your authentication token from the Hugging Face website.\n",
        "- Create a new token (https://huggingface.co/settings/tokens) **with write role**\n",
        "\n",
        "<img src=\"https://huggingface.co/datasets/huggingface-deep-rl-course/course-images/resolve/main/en/notebooks/create-token.jpg\" alt=\"Create HF Token\">\n",
        "\n",
        "- Copy the token\n",
        "- Run the cell below and paste the token"
      ]
    },
    {
      "cell_type": "code",
      "execution_count": 14,
      "metadata": {
        "id": "rKt2vsYoK56o",
        "colab": {
          "base_uri": "https://localhost:8080/",
          "height": 17,
          "referenced_widgets": [
            "2f02e0357e734d22814b3ea8d2b915b1",
            "17060e1fb597450caf788534e7eb5aa6",
            "27d65541ef764a8b8205dc8191da53b6",
            "a9212cab5e49457789c8e82467ca968f",
            "fb53f7f0522a4a2d93d7b2b183ab68a9",
            "15d717b27945424da76cee861bed8ee9",
            "50026106e58842f8a4399c48a303cee7",
            "a52fe243a05341bb9638aea8d129c313",
            "1b6e927571014d54b89c8adaade88cbe",
            "c316e3dc483449a69f5d9beec877f81b",
            "ce3b32a2810f4c9db3bfe0fdf2676ea4",
            "529b3cfb5729464e9d4dbe15fa9e7ee2",
            "6d8e0746a63d4607b1b9bb8bf53f95b8",
            "da922e427a06409daa653a7698bfe6c8",
            "ee7680838ce24e7483809c9cbaa3e3ee",
            "60f53c6b27204f79acbaed45d8788dc7",
            "ee7a837038d84b8dade0e410df6de151",
            "e482ceb2b2264fdba6640578aa9edb36",
            "0a5e863092944630b7ac130785f35a30",
            "80547d438c70433fb75c4eb5854bde9f"
          ]
        },
        "outputId": "ad4a4790-2e83-46bd-dce5-8c0341001a0e"
      },
      "outputs": [
        {
          "output_type": "display_data",
          "data": {
            "text/plain": [
              "VBox(children=(HTML(value='<center> <img\\nsrc=https://huggingface.co/front/assets/huggingface_logo-noborder.sv…"
            ],
            "application/vnd.jupyter.widget-view+json": {
              "version_major": 2,
              "version_minor": 0,
              "model_id": "2f02e0357e734d22814b3ea8d2b915b1"
            }
          },
          "metadata": {}
        }
      ],
      "source": [
        "from huggingface_hub import notebook_login\n",
        "notebook_login()"
      ]
    },
    {
      "cell_type": "markdown",
      "metadata": {
        "id": "ew59mK19zjtN"
      },
      "source": [
        "If you don't want to use a Google Colab or a Jupyter Notebook, you need to use this command instead: `huggingface-cli login`"
      ]
    },
    {
      "cell_type": "markdown",
      "metadata": {
        "id": "Xi0y_VASRzJU"
      },
      "source": [
        "Then, we simply need to run `mlagents-push-to-hf`.\n",
        "\n",
        "<img src=\"https://huggingface.co/datasets/huggingface-deep-rl-course/course-images/resolve/main/en/notebooks/unit-bonus1/mlpush.png\" alt=\"ml learn function\" width=\"100%\">"
      ]
    },
    {
      "cell_type": "markdown",
      "metadata": {
        "id": "KK4fPfnczunT"
      },
      "source": [
        "And we define 4 parameters:\n",
        "\n",
        "1. `--run-id`: the name of the training run id.\n",
        "2. `--local-dir`: where the agent was saved, it’s results/<run_id name>, so in my case results/First Training.\n",
        "3. `--repo-id`: the name of the Hugging Face repo you want to create or update. It’s always <your huggingface username>/<the repo name>\n",
        "If the repo does not exist **it will be created automatically**\n",
        "4. `--commit-message`: since HF repos are git repository you need to define a commit message."
      ]
    },
    {
      "cell_type": "code",
      "execution_count": 16,
      "metadata": {
        "id": "dGEFAIboLVc6",
        "colab": {
          "base_uri": "https://localhost:8080/"
        },
        "outputId": "5f12c139-e90d-46b2-c3c0-f3a6ccb0f7c9"
      },
      "outputs": [
        {
          "output_type": "stream",
          "name": "stdout",
          "text": [
            "[INFO] This function will create a model card and upload your HuggyTraining into HuggingFace Hub. This is a work in progress: If you encounter a bug, please send open an issue\n",
            "[INFO] Pushing repo HuggyTraining to the Hugging Face Hub\n",
            "Upload 25 LFS files:   0% 0/25 [00:00<?, ?it/s]\n",
            "Huggy-1199925.onnx:   0% 0.00/2.27M [00:00<?, ?B/s]\u001b[A\n",
            "\n",
            "\n",
            "Huggy-1399953.onnx:   0% 0.00/2.27M [00:00<?, ?B/s]\u001b[A\u001b[A\u001b[A\n",
            "\n",
            "\n",
            "\n",
            "Huggy-1399953.pt:   0% 0.00/13.5M [00:00<?, ?B/s]\u001b[A\u001b[A\u001b[A\u001b[A\n",
            "\n",
            "Huggy-1199925.pt:   0% 0.00/13.5M [00:00<?, ?B/s]\u001b[A\u001b[A\n",
            "\n",
            "\n",
            "\n",
            "\n",
            "Huggy-1599936.onnx:   0% 0.00/2.27M [00:00<?, ?B/s]\u001b[A\u001b[A\u001b[A\u001b[A\u001b[A\n",
            "\n",
            "\n",
            "\n",
            "\n",
            "Huggy-1599936.onnx:  17% 393k/2.27M [00:00<00:00, 3.92MB/s]\u001b[A\u001b[A\u001b[A\u001b[A\u001b[A\n",
            "\n",
            "\n",
            "\n",
            "Huggy-1399953.pt:   5% 705k/13.5M [00:00<00:02, 6.25MB/s]\u001b[A\u001b[A\u001b[A\u001b[A\n",
            "\n",
            "Huggy-1199925.pt:  34% 4.65M/13.5M [00:00<00:00, 33.3MB/s]\u001b[A\u001b[A\n",
            "\n",
            "\n",
            "\n",
            "Huggy-1399953.pt:  17% 2.33M/13.5M [00:00<00:01, 9.89MB/s]\u001b[A\u001b[A\u001b[A\u001b[A\n",
            "\n",
            "\n",
            "\n",
            "Huggy-1399953.pt:  29% 3.95M/13.5M [00:00<00:00, 12.1MB/s]\u001b[A\u001b[A\u001b[A\u001b[A\n",
            "\n",
            "Huggy-1199925.pt:  65% 8.72M/13.5M [00:00<00:00, 21.1MB/s]\u001b[A\u001b[A\n",
            "\n",
            "\n",
            "\n",
            "Huggy-1399953.onnx: 100% 2.27M/2.27M [00:00<00:00, 4.17MB/s]\n",
            "Huggy-1599936.onnx: 100% 2.27M/2.27M [00:00<00:00, 4.08MB/s]\n",
            "Huggy-1199925.onnx: 100% 2.27M/2.27M [00:00<00:00, 3.76MB/s]\n",
            "\n",
            "Huggy-1599936.pt:   0% 0.00/13.5M [00:00<?, ?B/s]\u001b[A\n",
            "\n",
            "\n",
            "Upload 25 LFS files:   4% 1/25 [00:00<00:17,  1.38it/s]\n",
            "\n",
            "\n",
            "\n",
            "\n",
            "Huggy-1399953.pt: 100% 13.5M/13.5M [00:00<00:00, 17.5MB/s]\n",
            "Huggy-1199925.pt: 100% 13.5M/13.5M [00:00<00:00, 16.5MB/s]\n",
            "\n",
            "Huggy-1599936.pt:  22% 2.93M/13.5M [00:00<00:00, 16.6MB/s]\u001b[A\n",
            "\n",
            "\n",
            "\n",
            "\n",
            "Huggy-1799804.pt:  45% 6.13M/13.5M [00:00<00:00, 42.1MB/s]\u001b[A\u001b[A\u001b[A\u001b[A\u001b[A\n",
            "\n",
            "Upload 25 LFS files:   8% 2/25 [00:00<00:09,  2.33it/s]\n",
            "\n",
            "\n",
            "\n",
            "Huggy-199893.pt:   0% 0.00/13.5M [00:00<?, ?B/s]\u001b[A\u001b[A\u001b[A\u001b[A\n",
            "Huggy-1599936.pt:  34% 4.60M/13.5M [00:00<00:00, 13.9MB/s]\u001b[A\n",
            "\n",
            "\n",
            "\n",
            "Huggy-199893.pt:  48% 6.44M/13.5M [00:00<00:00, 44.4MB/s]\u001b[A\u001b[A\u001b[A\u001b[A\n",
            "\n",
            "\n",
            "\n",
            "\n",
            "Huggy-1799804.pt:  77% 10.3M/13.5M [00:00<00:00, 24.5MB/s]\u001b[A\u001b[A\u001b[A\u001b[A\u001b[A\n",
            "Huggy-199893.onnx: 100% 2.27M/2.27M [00:00<00:00, 10.2MB/s]\n",
            "\n",
            "\n",
            "\n",
            "\n",
            "Huggy-1799804.onnx: 100% 2.27M/2.27M [00:00<00:00, 3.92MB/s]\n",
            "\n",
            "\n",
            "Huggy-1999964.onnx:   0% 0.00/2.27M [00:00<?, ?B/s]\u001b[A\u001b[A\n",
            "\n",
            "\n",
            "Huggy-1799804.pt: 100% 13.5M/13.5M [00:00<00:00, 18.0MB/s]\n",
            "Huggy-1599936.pt: 100% 13.5M/13.5M [00:00<00:00, 17.0MB/s]\n",
            "\n",
            "\n",
            "\n",
            "Huggy-1999964.onnx: 100% 2.27M/2.27M [00:00<00:00, 11.7MB/s]\n",
            "\n",
            "Upload 25 LFS files:  24% 6/25 [00:01<00:04,  4.50it/s]\n",
            "\n",
            "Huggy-2000021.pt:   0% 0.00/13.5M [00:00<?, ?B/s]\u001b[A\u001b[A\n",
            "\n",
            "\n",
            "\n",
            "\n",
            "Huggy-399947.onnx:   0% 0.00/2.27M [00:00<?, ?B/s]\u001b[A\u001b[A\u001b[A\u001b[A\u001b[A\n",
            "\n",
            "\n",
            "Huggy-199893.pt: 100% 13.5M/13.5M [00:00<00:00, 17.3MB/s]\n",
            "\n",
            "\n",
            "Huggy-2000021.pt:  43% 5.87M/13.5M [00:00<00:00, 33.7MB/s]\u001b[A\u001b[A\n",
            "\n",
            "\n",
            "Huggy-399947.onnx: 100% 2.27M/2.27M [00:00<00:00, 11.9MB/s]\n",
            "Upload 25 LFS files:  40% 10/25 [00:01<00:02,  6.95it/s]\n",
            "\n",
            "\n",
            "\n",
            "Huggy-399947.pt:   0% 0.00/13.5M [00:00<?, ?B/s]\u001b[A\u001b[A\u001b[A\u001b[A\n",
            "\n",
            "Huggy-2000021.pt:  68% 9.24M/13.5M [00:00<00:00, 27.6MB/s]\u001b[A\u001b[A\n",
            "\n",
            "\n",
            "\n",
            "\n",
            "Huggy-599963.onnx:   0% 0.00/2.27M [00:00<?, ?B/s]\u001b[A\u001b[A\u001b[A\u001b[A\u001b[A\n",
            "\n",
            "\n",
            "\n",
            "Huggy-399947.pt:  48% 6.44M/13.5M [00:00<00:00, 45.3MB/s]\u001b[A\u001b[A\u001b[A\u001b[A\n",
            "\n",
            "Huggy.onnx: 100% 2.27M/2.27M [00:00<00:00, 4.29MB/s]\n",
            "\n",
            "\n",
            "\n",
            "\n",
            "Huggy-1999964.pt: 100% 13.5M/13.5M [00:00<00:00, 16.6MB/s]\n",
            "\n",
            "Upload 25 LFS files:  48% 12/25 [00:02<00:02,  6.08it/s]\n",
            "\n",
            "\n",
            "Huggy-799262.onnx:   0% 0.00/2.27M [00:00<?, ?B/s]\u001b[A\u001b[A\u001b[A\n",
            "Huggy-2000021.pt: 100% 13.5M/13.5M [00:00<00:00, 16.9MB/s]\n",
            "Huggy-599963.onnx: 100% 2.27M/2.27M [00:00<00:00, 4.58MB/s]\n",
            "Upload 25 LFS files:  56% 14/25 [00:02<00:01,  6.95it/s]\n",
            "\n",
            "Huggy-799262.pt:   0% 0.00/13.5M [00:00<?, ?B/s]\u001b[A\u001b[A\n",
            "\n",
            "\n",
            "\n",
            "\n",
            "Huggy-999897.onnx:   0% 0.00/2.27M [00:00<?, ?B/s]\u001b[A\u001b[A\u001b[A\u001b[A\u001b[A\n",
            "\n",
            "Huggy-399947.pt: 100% 13.5M/13.5M [00:00<00:00, 16.8MB/s]\n",
            "\n",
            "\n",
            "Upload 25 LFS files:  64% 16/25 [00:02<00:01,  6.60it/s]\n",
            "\n",
            "\n",
            "\n",
            "Huggy-799262.onnx: 100% 2.27M/2.27M [00:00<00:00, 4.28MB/s]\n",
            "\n",
            "\n",
            "\n",
            "\n",
            "Huggy-999897.pt:  77% 10.4M/13.5M [00:00<00:00, 100MB/s]\u001b[A\u001b[A\u001b[A\u001b[A\n",
            "\n",
            "\n",
            "Huggy-999897.onnx: 100% 2.27M/2.27M [00:00<00:00, 4.52MB/s]\n",
            "\n",
            "\n",
            "\n",
            "Huggy-799262.pt: 100% 13.5M/13.5M [00:00<00:00, 18.1MB/s]\n",
            "\n",
            "\n",
            "Huggy-999897.pt: 100% 13.5M/13.5M [00:00<00:00, 31.5MB/s]\n",
            "\n",
            "\n",
            "\n",
            "Huggy-599963.pt: 100% 13.5M/13.5M [00:01<00:00, 11.8MB/s]\n",
            "\n",
            "events.out.tfevents.1746261492.8a3138f9e2ef.3424.0: 100% 312k/312k [00:00<00:00, 1.56MB/s]\n",
            "Huggy.onnx: 100% 2.27M/2.27M [00:00<00:00, 16.8MB/s]\n",
            "checkpoint.pt: 100% 13.5M/13.5M [00:00<00:00, 17.1MB/s]\n",
            "Upload 25 LFS files: 100% 25/25 [00:03<00:00,  6.42it/s]\n",
            "[INFO] Your model is pushed to the hub. You can view your model here: https://huggingface.co/abkimc/ppo-Huggy\n"
          ]
        }
      ],
      "source": [
        "!mlagents-push-to-hf --run-id=\"HuggyTraining\" --local-dir=\"./results/Huggy2\" --repo-id=\"abkimc/ppo-Huggy\" --commit-message=\"Huggy\""
      ]
    },
    {
      "cell_type": "markdown",
      "metadata": {
        "id": "yborB0850FTM"
      },
      "source": [
        "Else, if everything worked you should have this at the end of the process(but with a different url 😆) :\n",
        "\n",
        "\n",
        "\n",
        "```\n",
        "Your model is pushed to the hub. You can view your model here: https://huggingface.co/ThomasSimonini/ppo-Huggy\n",
        "```\n",
        "\n",
        "It’s the link to your model repository. The repository contains a model card that explains how to use the model, your Tensorboard logs and your config file. **What’s awesome is that it’s a git repository, which means you can have different commits, update your repository with a new push, open Pull Requests, etc.**\n",
        "\n",
        "<img src=\"https://huggingface.co/datasets/huggingface-deep-rl-course/course-images/resolve/main/en/notebooks/unit-bonus1/modelcard.png\" alt=\"ml learn function\" width=\"100%\">"
      ]
    },
    {
      "cell_type": "markdown",
      "metadata": {
        "id": "5Uaon2cg0NrL"
      },
      "source": [
        "But now comes the best: **being able to play with Huggy online 👀.**"
      ]
    },
    {
      "cell_type": "markdown",
      "metadata": {
        "id": "VMc4oOsE0QiZ"
      },
      "source": [
        "## Play with your Huggy 🐕\n",
        "\n",
        "This step is the simplest:\n",
        "\n",
        "- Open the game Huggy in your browser: https://huggingface.co/spaces/ThomasSimonini/Huggy\n",
        "\n",
        "- Click on Play with my Huggy model\n",
        "\n",
        "<img src=\"https://huggingface.co/datasets/huggingface-deep-rl-course/course-images/resolve/main/en/notebooks/unit-bonus1/load-huggy.jpg\" alt=\"load-huggy\" width=\"100%\">"
      ]
    },
    {
      "cell_type": "markdown",
      "metadata": {
        "id": "Djs8c5rR0Z8a"
      },
      "source": [
        "1. In step 1, type your username (your username is case sensitive: for instance, my username is ThomasSimonini not thomassimonini or ThOmasImoNInI) and click on the search button.\n",
        "\n",
        "2. In step 2, select your model repository.\n",
        "\n",
        "3. In step 3, **choose which model you want to replay**:\n",
        "  - I have multiple ones, since we saved a model every 500000 timesteps.\n",
        "  - But since I want the more recent, I choose `Huggy.onnx`\n",
        "\n",
        "👉 What’s nice **is to try with different models steps to see the improvement of the agent.**"
      ]
    },
    {
      "cell_type": "markdown",
      "metadata": {
        "id": "PI6dPWmh064H"
      },
      "source": [
        "Congrats on finishing this bonus unit!\n",
        "\n",
        "You can now sit and enjoy playing with your Huggy 🐶. And don't **forget to spread the love by sharing Huggy with your friends 🤗**. And if you share about it on social media, **please tag us @huggingface and me @simoninithomas**\n",
        "\n",
        "<img src=\"https://huggingface.co/datasets/huggingface-deep-rl-course/course-images/resolve/main/en/notebooks/unit-bonus1/huggy-cover.jpeg\" alt=\"Huggy cover\" width=\"100%\">\n",
        "\n",
        "\n",
        "## Keep Learning, Stay  awesome 🤗"
      ]
    }
  ],
  "metadata": {
    "accelerator": "GPU",
    "colab": {
      "provenance": [],
      "gpuType": "T4",
      "include_colab_link": true
    },
    "kernelspec": {
      "display_name": "Python 3",
      "name": "python3"
    },
    "language_info": {
      "name": "python"
    },
    "widgets": {
      "application/vnd.jupyter.widget-state+json": {
        "2f02e0357e734d22814b3ea8d2b915b1": {
          "model_module": "@jupyter-widgets/controls",
          "model_name": "VBoxModel",
          "model_module_version": "1.5.0",
          "state": {
            "_dom_classes": [],
            "_model_module": "@jupyter-widgets/controls",
            "_model_module_version": "1.5.0",
            "_model_name": "VBoxModel",
            "_view_count": null,
            "_view_module": "@jupyter-widgets/controls",
            "_view_module_version": "1.5.0",
            "_view_name": "VBoxView",
            "box_style": "",
            "children": [],
            "layout": "IPY_MODEL_50026106e58842f8a4399c48a303cee7"
          }
        },
        "17060e1fb597450caf788534e7eb5aa6": {
          "model_module": "@jupyter-widgets/controls",
          "model_name": "HTMLModel",
          "model_module_version": "1.5.0",
          "state": {
            "_dom_classes": [],
            "_model_module": "@jupyter-widgets/controls",
            "_model_module_version": "1.5.0",
            "_model_name": "HTMLModel",
            "_view_count": null,
            "_view_module": "@jupyter-widgets/controls",
            "_view_module_version": "1.5.0",
            "_view_name": "HTMLView",
            "description": "",
            "description_tooltip": null,
            "layout": "IPY_MODEL_a52fe243a05341bb9638aea8d129c313",
            "placeholder": "​",
            "style": "IPY_MODEL_1b6e927571014d54b89c8adaade88cbe",
            "value": "<center> <img\nsrc=https://huggingface.co/front/assets/huggingface_logo-noborder.svg\nalt='Hugging Face'> <br> Copy a token from <a\nhref=\"https://huggingface.co/settings/tokens\" target=\"_blank\">your Hugging Face\ntokens page</a> and paste it below. <br> Immediately click login after copying\nyour token or it might be stored in plain text in this notebook file. </center>"
          }
        },
        "27d65541ef764a8b8205dc8191da53b6": {
          "model_module": "@jupyter-widgets/controls",
          "model_name": "PasswordModel",
          "model_module_version": "1.5.0",
          "state": {
            "_dom_classes": [],
            "_model_module": "@jupyter-widgets/controls",
            "_model_module_version": "1.5.0",
            "_model_name": "PasswordModel",
            "_view_count": null,
            "_view_module": "@jupyter-widgets/controls",
            "_view_module_version": "1.5.0",
            "_view_name": "PasswordView",
            "continuous_update": true,
            "description": "Token:",
            "description_tooltip": null,
            "disabled": false,
            "layout": "IPY_MODEL_c316e3dc483449a69f5d9beec877f81b",
            "placeholder": "​",
            "style": "IPY_MODEL_ce3b32a2810f4c9db3bfe0fdf2676ea4",
            "value": ""
          }
        },
        "a9212cab5e49457789c8e82467ca968f": {
          "model_module": "@jupyter-widgets/controls",
          "model_name": "CheckboxModel",
          "model_module_version": "1.5.0",
          "state": {
            "_dom_classes": [],
            "_model_module": "@jupyter-widgets/controls",
            "_model_module_version": "1.5.0",
            "_model_name": "CheckboxModel",
            "_view_count": null,
            "_view_module": "@jupyter-widgets/controls",
            "_view_module_version": "1.5.0",
            "_view_name": "CheckboxView",
            "description": "Add token as git credential?",
            "description_tooltip": null,
            "disabled": false,
            "indent": true,
            "layout": "IPY_MODEL_529b3cfb5729464e9d4dbe15fa9e7ee2",
            "style": "IPY_MODEL_6d8e0746a63d4607b1b9bb8bf53f95b8",
            "value": true
          }
        },
        "fb53f7f0522a4a2d93d7b2b183ab68a9": {
          "model_module": "@jupyter-widgets/controls",
          "model_name": "ButtonModel",
          "model_module_version": "1.5.0",
          "state": {
            "_dom_classes": [],
            "_model_module": "@jupyter-widgets/controls",
            "_model_module_version": "1.5.0",
            "_model_name": "ButtonModel",
            "_view_count": null,
            "_view_module": "@jupyter-widgets/controls",
            "_view_module_version": "1.5.0",
            "_view_name": "ButtonView",
            "button_style": "",
            "description": "Login",
            "disabled": false,
            "icon": "",
            "layout": "IPY_MODEL_da922e427a06409daa653a7698bfe6c8",
            "style": "IPY_MODEL_ee7680838ce24e7483809c9cbaa3e3ee",
            "tooltip": ""
          }
        },
        "15d717b27945424da76cee861bed8ee9": {
          "model_module": "@jupyter-widgets/controls",
          "model_name": "HTMLModel",
          "model_module_version": "1.5.0",
          "state": {
            "_dom_classes": [],
            "_model_module": "@jupyter-widgets/controls",
            "_model_module_version": "1.5.0",
            "_model_name": "HTMLModel",
            "_view_count": null,
            "_view_module": "@jupyter-widgets/controls",
            "_view_module_version": "1.5.0",
            "_view_name": "HTMLView",
            "description": "",
            "description_tooltip": null,
            "layout": "IPY_MODEL_60f53c6b27204f79acbaed45d8788dc7",
            "placeholder": "​",
            "style": "IPY_MODEL_ee7a837038d84b8dade0e410df6de151",
            "value": "\n<b>Pro Tip:</b> If you don't already have one, you can create a dedicated\n'notebooks' token with 'write' access, that you can then easily reuse for all\nnotebooks. </center>"
          }
        },
        "50026106e58842f8a4399c48a303cee7": {
          "model_module": "@jupyter-widgets/base",
          "model_name": "LayoutModel",
          "model_module_version": "1.2.0",
          "state": {
            "_model_module": "@jupyter-widgets/base",
            "_model_module_version": "1.2.0",
            "_model_name": "LayoutModel",
            "_view_count": null,
            "_view_module": "@jupyter-widgets/base",
            "_view_module_version": "1.2.0",
            "_view_name": "LayoutView",
            "align_content": null,
            "align_items": "center",
            "align_self": null,
            "border": null,
            "bottom": null,
            "display": "flex",
            "flex": null,
            "flex_flow": "column",
            "grid_area": null,
            "grid_auto_columns": null,
            "grid_auto_flow": null,
            "grid_auto_rows": null,
            "grid_column": null,
            "grid_gap": null,
            "grid_row": null,
            "grid_template_areas": null,
            "grid_template_columns": null,
            "grid_template_rows": null,
            "height": null,
            "justify_content": null,
            "justify_items": null,
            "left": null,
            "margin": null,
            "max_height": null,
            "max_width": null,
            "min_height": null,
            "min_width": null,
            "object_fit": null,
            "object_position": null,
            "order": null,
            "overflow": null,
            "overflow_x": null,
            "overflow_y": null,
            "padding": null,
            "right": null,
            "top": null,
            "visibility": null,
            "width": "50%"
          }
        },
        "a52fe243a05341bb9638aea8d129c313": {
          "model_module": "@jupyter-widgets/base",
          "model_name": "LayoutModel",
          "model_module_version": "1.2.0",
          "state": {
            "_model_module": "@jupyter-widgets/base",
            "_model_module_version": "1.2.0",
            "_model_name": "LayoutModel",
            "_view_count": null,
            "_view_module": "@jupyter-widgets/base",
            "_view_module_version": "1.2.0",
            "_view_name": "LayoutView",
            "align_content": null,
            "align_items": null,
            "align_self": null,
            "border": null,
            "bottom": null,
            "display": null,
            "flex": null,
            "flex_flow": null,
            "grid_area": null,
            "grid_auto_columns": null,
            "grid_auto_flow": null,
            "grid_auto_rows": null,
            "grid_column": null,
            "grid_gap": null,
            "grid_row": null,
            "grid_template_areas": null,
            "grid_template_columns": null,
            "grid_template_rows": null,
            "height": null,
            "justify_content": null,
            "justify_items": null,
            "left": null,
            "margin": null,
            "max_height": null,
            "max_width": null,
            "min_height": null,
            "min_width": null,
            "object_fit": null,
            "object_position": null,
            "order": null,
            "overflow": null,
            "overflow_x": null,
            "overflow_y": null,
            "padding": null,
            "right": null,
            "top": null,
            "visibility": null,
            "width": null
          }
        },
        "1b6e927571014d54b89c8adaade88cbe": {
          "model_module": "@jupyter-widgets/controls",
          "model_name": "DescriptionStyleModel",
          "model_module_version": "1.5.0",
          "state": {
            "_model_module": "@jupyter-widgets/controls",
            "_model_module_version": "1.5.0",
            "_model_name": "DescriptionStyleModel",
            "_view_count": null,
            "_view_module": "@jupyter-widgets/base",
            "_view_module_version": "1.2.0",
            "_view_name": "StyleView",
            "description_width": ""
          }
        },
        "c316e3dc483449a69f5d9beec877f81b": {
          "model_module": "@jupyter-widgets/base",
          "model_name": "LayoutModel",
          "model_module_version": "1.2.0",
          "state": {
            "_model_module": "@jupyter-widgets/base",
            "_model_module_version": "1.2.0",
            "_model_name": "LayoutModel",
            "_view_count": null,
            "_view_module": "@jupyter-widgets/base",
            "_view_module_version": "1.2.0",
            "_view_name": "LayoutView",
            "align_content": null,
            "align_items": null,
            "align_self": null,
            "border": null,
            "bottom": null,
            "display": null,
            "flex": null,
            "flex_flow": null,
            "grid_area": null,
            "grid_auto_columns": null,
            "grid_auto_flow": null,
            "grid_auto_rows": null,
            "grid_column": null,
            "grid_gap": null,
            "grid_row": null,
            "grid_template_areas": null,
            "grid_template_columns": null,
            "grid_template_rows": null,
            "height": null,
            "justify_content": null,
            "justify_items": null,
            "left": null,
            "margin": null,
            "max_height": null,
            "max_width": null,
            "min_height": null,
            "min_width": null,
            "object_fit": null,
            "object_position": null,
            "order": null,
            "overflow": null,
            "overflow_x": null,
            "overflow_y": null,
            "padding": null,
            "right": null,
            "top": null,
            "visibility": null,
            "width": null
          }
        },
        "ce3b32a2810f4c9db3bfe0fdf2676ea4": {
          "model_module": "@jupyter-widgets/controls",
          "model_name": "DescriptionStyleModel",
          "model_module_version": "1.5.0",
          "state": {
            "_model_module": "@jupyter-widgets/controls",
            "_model_module_version": "1.5.0",
            "_model_name": "DescriptionStyleModel",
            "_view_count": null,
            "_view_module": "@jupyter-widgets/base",
            "_view_module_version": "1.2.0",
            "_view_name": "StyleView",
            "description_width": ""
          }
        },
        "529b3cfb5729464e9d4dbe15fa9e7ee2": {
          "model_module": "@jupyter-widgets/base",
          "model_name": "LayoutModel",
          "model_module_version": "1.2.0",
          "state": {
            "_model_module": "@jupyter-widgets/base",
            "_model_module_version": "1.2.0",
            "_model_name": "LayoutModel",
            "_view_count": null,
            "_view_module": "@jupyter-widgets/base",
            "_view_module_version": "1.2.0",
            "_view_name": "LayoutView",
            "align_content": null,
            "align_items": null,
            "align_self": null,
            "border": null,
            "bottom": null,
            "display": null,
            "flex": null,
            "flex_flow": null,
            "grid_area": null,
            "grid_auto_columns": null,
            "grid_auto_flow": null,
            "grid_auto_rows": null,
            "grid_column": null,
            "grid_gap": null,
            "grid_row": null,
            "grid_template_areas": null,
            "grid_template_columns": null,
            "grid_template_rows": null,
            "height": null,
            "justify_content": null,
            "justify_items": null,
            "left": null,
            "margin": null,
            "max_height": null,
            "max_width": null,
            "min_height": null,
            "min_width": null,
            "object_fit": null,
            "object_position": null,
            "order": null,
            "overflow": null,
            "overflow_x": null,
            "overflow_y": null,
            "padding": null,
            "right": null,
            "top": null,
            "visibility": null,
            "width": null
          }
        },
        "6d8e0746a63d4607b1b9bb8bf53f95b8": {
          "model_module": "@jupyter-widgets/controls",
          "model_name": "DescriptionStyleModel",
          "model_module_version": "1.5.0",
          "state": {
            "_model_module": "@jupyter-widgets/controls",
            "_model_module_version": "1.5.0",
            "_model_name": "DescriptionStyleModel",
            "_view_count": null,
            "_view_module": "@jupyter-widgets/base",
            "_view_module_version": "1.2.0",
            "_view_name": "StyleView",
            "description_width": ""
          }
        },
        "da922e427a06409daa653a7698bfe6c8": {
          "model_module": "@jupyter-widgets/base",
          "model_name": "LayoutModel",
          "model_module_version": "1.2.0",
          "state": {
            "_model_module": "@jupyter-widgets/base",
            "_model_module_version": "1.2.0",
            "_model_name": "LayoutModel",
            "_view_count": null,
            "_view_module": "@jupyter-widgets/base",
            "_view_module_version": "1.2.0",
            "_view_name": "LayoutView",
            "align_content": null,
            "align_items": null,
            "align_self": null,
            "border": null,
            "bottom": null,
            "display": null,
            "flex": null,
            "flex_flow": null,
            "grid_area": null,
            "grid_auto_columns": null,
            "grid_auto_flow": null,
            "grid_auto_rows": null,
            "grid_column": null,
            "grid_gap": null,
            "grid_row": null,
            "grid_template_areas": null,
            "grid_template_columns": null,
            "grid_template_rows": null,
            "height": null,
            "justify_content": null,
            "justify_items": null,
            "left": null,
            "margin": null,
            "max_height": null,
            "max_width": null,
            "min_height": null,
            "min_width": null,
            "object_fit": null,
            "object_position": null,
            "order": null,
            "overflow": null,
            "overflow_x": null,
            "overflow_y": null,
            "padding": null,
            "right": null,
            "top": null,
            "visibility": null,
            "width": null
          }
        },
        "ee7680838ce24e7483809c9cbaa3e3ee": {
          "model_module": "@jupyter-widgets/controls",
          "model_name": "ButtonStyleModel",
          "model_module_version": "1.5.0",
          "state": {
            "_model_module": "@jupyter-widgets/controls",
            "_model_module_version": "1.5.0",
            "_model_name": "ButtonStyleModel",
            "_view_count": null,
            "_view_module": "@jupyter-widgets/base",
            "_view_module_version": "1.2.0",
            "_view_name": "StyleView",
            "button_color": null,
            "font_weight": ""
          }
        },
        "60f53c6b27204f79acbaed45d8788dc7": {
          "model_module": "@jupyter-widgets/base",
          "model_name": "LayoutModel",
          "model_module_version": "1.2.0",
          "state": {
            "_model_module": "@jupyter-widgets/base",
            "_model_module_version": "1.2.0",
            "_model_name": "LayoutModel",
            "_view_count": null,
            "_view_module": "@jupyter-widgets/base",
            "_view_module_version": "1.2.0",
            "_view_name": "LayoutView",
            "align_content": null,
            "align_items": null,
            "align_self": null,
            "border": null,
            "bottom": null,
            "display": null,
            "flex": null,
            "flex_flow": null,
            "grid_area": null,
            "grid_auto_columns": null,
            "grid_auto_flow": null,
            "grid_auto_rows": null,
            "grid_column": null,
            "grid_gap": null,
            "grid_row": null,
            "grid_template_areas": null,
            "grid_template_columns": null,
            "grid_template_rows": null,
            "height": null,
            "justify_content": null,
            "justify_items": null,
            "left": null,
            "margin": null,
            "max_height": null,
            "max_width": null,
            "min_height": null,
            "min_width": null,
            "object_fit": null,
            "object_position": null,
            "order": null,
            "overflow": null,
            "overflow_x": null,
            "overflow_y": null,
            "padding": null,
            "right": null,
            "top": null,
            "visibility": null,
            "width": null
          }
        },
        "ee7a837038d84b8dade0e410df6de151": {
          "model_module": "@jupyter-widgets/controls",
          "model_name": "DescriptionStyleModel",
          "model_module_version": "1.5.0",
          "state": {
            "_model_module": "@jupyter-widgets/controls",
            "_model_module_version": "1.5.0",
            "_model_name": "DescriptionStyleModel",
            "_view_count": null,
            "_view_module": "@jupyter-widgets/base",
            "_view_module_version": "1.2.0",
            "_view_name": "StyleView",
            "description_width": ""
          }
        },
        "e482ceb2b2264fdba6640578aa9edb36": {
          "model_module": "@jupyter-widgets/controls",
          "model_name": "LabelModel",
          "model_module_version": "1.5.0",
          "state": {
            "_dom_classes": [],
            "_model_module": "@jupyter-widgets/controls",
            "_model_module_version": "1.5.0",
            "_model_name": "LabelModel",
            "_view_count": null,
            "_view_module": "@jupyter-widgets/controls",
            "_view_module_version": "1.5.0",
            "_view_name": "LabelView",
            "description": "",
            "description_tooltip": null,
            "layout": "IPY_MODEL_0a5e863092944630b7ac130785f35a30",
            "placeholder": "​",
            "style": "IPY_MODEL_80547d438c70433fb75c4eb5854bde9f",
            "value": "Connecting..."
          }
        },
        "0a5e863092944630b7ac130785f35a30": {
          "model_module": "@jupyter-widgets/base",
          "model_name": "LayoutModel",
          "model_module_version": "1.2.0",
          "state": {
            "_model_module": "@jupyter-widgets/base",
            "_model_module_version": "1.2.0",
            "_model_name": "LayoutModel",
            "_view_count": null,
            "_view_module": "@jupyter-widgets/base",
            "_view_module_version": "1.2.0",
            "_view_name": "LayoutView",
            "align_content": null,
            "align_items": null,
            "align_self": null,
            "border": null,
            "bottom": null,
            "display": null,
            "flex": null,
            "flex_flow": null,
            "grid_area": null,
            "grid_auto_columns": null,
            "grid_auto_flow": null,
            "grid_auto_rows": null,
            "grid_column": null,
            "grid_gap": null,
            "grid_row": null,
            "grid_template_areas": null,
            "grid_template_columns": null,
            "grid_template_rows": null,
            "height": null,
            "justify_content": null,
            "justify_items": null,
            "left": null,
            "margin": null,
            "max_height": null,
            "max_width": null,
            "min_height": null,
            "min_width": null,
            "object_fit": null,
            "object_position": null,
            "order": null,
            "overflow": null,
            "overflow_x": null,
            "overflow_y": null,
            "padding": null,
            "right": null,
            "top": null,
            "visibility": null,
            "width": null
          }
        },
        "80547d438c70433fb75c4eb5854bde9f": {
          "model_module": "@jupyter-widgets/controls",
          "model_name": "DescriptionStyleModel",
          "model_module_version": "1.5.0",
          "state": {
            "_model_module": "@jupyter-widgets/controls",
            "_model_module_version": "1.5.0",
            "_model_name": "DescriptionStyleModel",
            "_view_count": null,
            "_view_module": "@jupyter-widgets/base",
            "_view_module_version": "1.2.0",
            "_view_name": "StyleView",
            "description_width": ""
          }
        }
      }
    }
  },
  "nbformat": 4,
  "nbformat_minor": 0
}